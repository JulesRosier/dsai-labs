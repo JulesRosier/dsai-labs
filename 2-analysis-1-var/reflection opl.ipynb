{
 "cells": [
  {
   "attachments": {},
   "cell_type": "markdown",
   "metadata": {},
   "source": [
    "# Chapter 2 - Reflection exercises\n",
    "## Oplossingen"
   ]
  },
  {
   "cell_type": "markdown",
   "metadata": {},
   "source": [
    "# Ex 1"
   ]
  },
  {
   "cell_type": "code",
   "execution_count": 1,
   "metadata": {},
   "outputs": [],
   "source": [
    "import numpy as np                                  # \"Scientific computing\"\n",
    "import scipy.stats as stats                         # Statistical tests\n",
    "\n",
    "import pandas as pd                                 # Data Frame\n",
    "from pandas.api.types import CategoricalDtype\n",
    "\n",
    "import matplotlib.pyplot as plt                     # Basic visualisation\n",
    "from statsmodels.graphics.mosaicplot import mosaic  # Mosaic diagram\n",
    "import seaborn as sns      "
   ]
  },
  {
   "cell_type": "code",
   "execution_count": 2,
   "metadata": {},
   "outputs": [
    {
     "data": {
      "text/html": [
       "<div>\n",
       "<style scoped>\n",
       "    .dataframe tbody tr th:only-of-type {\n",
       "        vertical-align: middle;\n",
       "    }\n",
       "\n",
       "    .dataframe tbody tr th {\n",
       "        vertical-align: top;\n",
       "    }\n",
       "\n",
       "    .dataframe thead th {\n",
       "        text-align: right;\n",
       "    }\n",
       "</style>\n",
       "<table border=\"1\" class=\"dataframe\">\n",
       "  <thead>\n",
       "    <tr style=\"text-align: right;\">\n",
       "      <th></th>\n",
       "      <th>id</th>\n",
       "      <th>rcc</th>\n",
       "      <th>wcc</th>\n",
       "      <th>hc</th>\n",
       "      <th>hg</th>\n",
       "      <th>ferr</th>\n",
       "      <th>bmi</th>\n",
       "      <th>ssf</th>\n",
       "      <th>pcBfat</th>\n",
       "      <th>lbm</th>\n",
       "      <th>ht</th>\n",
       "      <th>wt</th>\n",
       "      <th>sex</th>\n",
       "      <th>sport</th>\n",
       "    </tr>\n",
       "  </thead>\n",
       "  <tbody>\n",
       "    <tr>\n",
       "      <th>0</th>\n",
       "      <td>1</td>\n",
       "      <td>3.96</td>\n",
       "      <td>7.5</td>\n",
       "      <td>37.5</td>\n",
       "      <td>12.3</td>\n",
       "      <td>60</td>\n",
       "      <td>20.56</td>\n",
       "      <td>109.1</td>\n",
       "      <td>19.75</td>\n",
       "      <td>63.32</td>\n",
       "      <td>195.9</td>\n",
       "      <td>78.9</td>\n",
       "      <td>f</td>\n",
       "      <td>B_Ball</td>\n",
       "    </tr>\n",
       "    <tr>\n",
       "      <th>1</th>\n",
       "      <td>2</td>\n",
       "      <td>4.41</td>\n",
       "      <td>8.3</td>\n",
       "      <td>38.2</td>\n",
       "      <td>12.7</td>\n",
       "      <td>68</td>\n",
       "      <td>20.67</td>\n",
       "      <td>102.8</td>\n",
       "      <td>21.30</td>\n",
       "      <td>58.55</td>\n",
       "      <td>189.7</td>\n",
       "      <td>74.4</td>\n",
       "      <td>f</td>\n",
       "      <td>B_Ball</td>\n",
       "    </tr>\n",
       "    <tr>\n",
       "      <th>2</th>\n",
       "      <td>3</td>\n",
       "      <td>4.14</td>\n",
       "      <td>5.0</td>\n",
       "      <td>36.4</td>\n",
       "      <td>11.6</td>\n",
       "      <td>21</td>\n",
       "      <td>21.86</td>\n",
       "      <td>104.6</td>\n",
       "      <td>19.88</td>\n",
       "      <td>55.36</td>\n",
       "      <td>177.8</td>\n",
       "      <td>69.1</td>\n",
       "      <td>f</td>\n",
       "      <td>B_Ball</td>\n",
       "    </tr>\n",
       "    <tr>\n",
       "      <th>3</th>\n",
       "      <td>4</td>\n",
       "      <td>4.11</td>\n",
       "      <td>5.3</td>\n",
       "      <td>37.3</td>\n",
       "      <td>12.6</td>\n",
       "      <td>69</td>\n",
       "      <td>21.88</td>\n",
       "      <td>126.4</td>\n",
       "      <td>23.66</td>\n",
       "      <td>57.18</td>\n",
       "      <td>185.0</td>\n",
       "      <td>74.9</td>\n",
       "      <td>f</td>\n",
       "      <td>B_Ball</td>\n",
       "    </tr>\n",
       "    <tr>\n",
       "      <th>4</th>\n",
       "      <td>5</td>\n",
       "      <td>4.45</td>\n",
       "      <td>6.8</td>\n",
       "      <td>41.5</td>\n",
       "      <td>14.0</td>\n",
       "      <td>29</td>\n",
       "      <td>18.96</td>\n",
       "      <td>80.3</td>\n",
       "      <td>17.64</td>\n",
       "      <td>53.20</td>\n",
       "      <td>184.6</td>\n",
       "      <td>64.6</td>\n",
       "      <td>f</td>\n",
       "      <td>B_Ball</td>\n",
       "    </tr>\n",
       "  </tbody>\n",
       "</table>\n",
       "</div>"
      ],
      "text/plain": [
       "   id   rcc  wcc    hc    hg  ferr    bmi    ssf  pcBfat    lbm     ht    wt  \\\n",
       "0   1  3.96  7.5  37.5  12.3    60  20.56  109.1   19.75  63.32  195.9  78.9   \n",
       "1   2  4.41  8.3  38.2  12.7    68  20.67  102.8   21.30  58.55  189.7  74.4   \n",
       "2   3  4.14  5.0  36.4  11.6    21  21.86  104.6   19.88  55.36  177.8  69.1   \n",
       "3   4  4.11  5.3  37.3  12.6    69  21.88  126.4   23.66  57.18  185.0  74.9   \n",
       "4   5  4.45  6.8  41.5  14.0    29  18.96   80.3   17.64  53.20  184.6  64.6   \n",
       "\n",
       "  sex   sport  \n",
       "0   f  B_Ball  \n",
       "1   f  B_Ball  \n",
       "2   f  B_Ball  \n",
       "3   f  B_Ball  \n",
       "4   f  B_Ball  "
      ]
     },
     "execution_count": 2,
     "metadata": {},
     "output_type": "execute_result"
    }
   ],
   "source": [
    "ais = pd.read_csv('../data/ais.csv')\n",
    "ais.head()"
   ]
  },
  {
   "attachments": {},
   "cell_type": "markdown",
   "metadata": {},
   "source": [
    "## Measures"
   ]
  },
  {
   "cell_type": "code",
   "execution_count": 7,
   "metadata": {},
   "outputs": [
    {
     "data": {
      "text/plain": [
       "0    21.86\n",
       "1    23.58\n",
       "Name: bmi, dtype: float64"
      ]
     },
     "execution_count": 7,
     "metadata": {},
     "output_type": "execute_result"
    }
   ],
   "source": [
    "ais['bmi'].mode()"
   ]
  },
  {
   "cell_type": "code",
   "execution_count": 21,
   "metadata": {},
   "outputs": [
    {
     "name": "stdout",
     "output_type": "stream",
     "text": [
      "Mean:                75.0079207920792\n",
      "Standard deviation:  13.925199486183791\n",
      "Variance:            193.91118073001334\n",
      "Skewness:            0.2424090729770724\n",
      "Kurtosis:            0.4256300226639298\n",
      "Minimum:   37.8\n",
      "Median:    74.4\n",
      "Maximum:   123.2\n",
      "Percentiles [0.0, 0.25, 0.5, 0.75, 1.0] \n",
      " 0.00     37.800\n",
      "0.25     66.525\n",
      "0.50     74.400\n",
      "0.75     84.125\n",
      "1.00    123.200\n",
      "Name: wt, dtype: float64\n",
      "Inter Quartile Range: 17.599999999999994\n",
      "Range :    85.4\n"
     ]
    }
   ],
   "source": [
    "# Centrality and dispersion deasures\n",
    "# Mean, standard deviation & friends\n",
    "print(f\"Mean:                {ais['wt'].mean()}\")\n",
    "print(f\"Standard deviation:  {ais['wt'].std()}\") # Pay attention: n-1 in the denominator\n",
    "print(f\"Variance:            {ais['wt'].var()}\") # Pay attention: n-1 in the denominator\n",
    "print(f\"Skewness:            {ais['wt'].skew()}\")\n",
    "print(f\"Kurtosis:            {ais['wt'].kurtosis()}\")\n",
    "\n",
    "# Median & co\n",
    "print(f\"Minimum:   {ais['wt'].min()}\")\n",
    "print(f\"Median:    {ais['wt'].median()}\")\n",
    "print(f\"Maximum:   {ais['wt'].max()}\")\n",
    "percentiles = [0.0, 0.25, 0.5, 0.75, 1.0]\n",
    "print(\"Percentiles\", percentiles, \"\\n\", ais['wt'].quantile(percentiles))\n",
    "print(\"Inter Quartile Range:\", ais['wt'].quantile(.75) - ais['wt'].quantile(.25))\n",
    "print(f\"Range :    {ais['wt'].max() - ais['wt'].min()}\")"
   ]
  },
  {
   "attachments": {},
   "cell_type": "markdown",
   "metadata": {},
   "source": [
    "## Graphs"
   ]
  },
  {
   "cell_type": "code",
   "execution_count": 4,
   "metadata": {},
   "outputs": [
    {
     "data": {
      "image/png": "[encoded data removed]",
      "text/plain": [
       "<Figure size 500x500 with 1 Axes>"
      ]
     },
     "metadata": {},
     "output_type": "display_data"
    }
   ],
   "source": [
    "sns.catplot(data = ais, kind = \"count\", y = \"sport\")"
   ]
  },
  {
   "cell_type": "code",
   "execution_count": 5,
   "metadata": {},
   "outputs": [
    {
     "data": {
      "text/plain": [
       "<seaborn.axisgrid.FacetGrid at 0x24066eb06d0>"
      ]
     },
     "execution_count": 5,
     "metadata": {},
     "output_type": "execute_result"
    },
    {
     "data": {
      "image/png": "[encoded data removed]",
      "text/plain": [
       "<Figure size 500x500 with 1 Axes>"
      ]
     },
     "metadata": {},
     "output_type": "display_data"
    }
   ],
   "source": [
    "sns.catplot(data=ais, kind='count', y='sex')"
   ]
  },
  {
   "cell_type": "code",
   "execution_count": 20,
   "metadata": {},
   "outputs": [
    {
     "data": {
      "text/plain": [
       "<seaborn.axisgrid.FacetGrid at 0x24072408130>"
      ]
     },
     "execution_count": 20,
     "metadata": {},
     "output_type": "execute_result"
    },
    {
     "data": {
      "image/png": "[encoded data removed]",
      "text/plain": [
       "<Figure size 500x500 with 1 Axes>"
      ]
     },
     "metadata": {},
     "output_type": "display_data"
    },
    {
     "data": {
      "image/png": "[encoded data removed]",
      "text/plain": [
       "<Figure size 500x500 with 1 Axes>"
      ]
     },
     "metadata": {},
     "output_type": "display_data"
    }
   ],
   "source": [
    "sns.displot(x=ais[ais['sex'] == 'm']['ht'], kde=True )\n",
    "sns.displot(x=ais[ais['sex'] == 'f']['ht'], kde=True )"
   ]
  },
  {
   "attachments": {},
   "cell_type": "markdown",
   "metadata": {},
   "source": [
    "## Ex 2"
   ]
  },
  {
   "cell_type": "code",
   "execution_count": 22,
   "metadata": {},
   "outputs": [],
   "source": [
    "x = [2, 1, 2, 0, 2, 4, 9, 11, 13, 8, 8]"
   ]
  },
  {
   "cell_type": "code",
   "execution_count": 40,
   "metadata": {},
   "outputs": [
    {
     "name": "stdout",
     "output_type": "stream",
     "text": [
      "n:  60\n",
      "mean:  7.0\n",
      "var:  5.830508474576271\n",
      "std div:  2.4146445855604237\n"
     ]
    }
   ],
   "source": [
    "# Variance of a sample\n",
    "def sample_var(x):\n",
    "    mean = 0\n",
    "    n = 0\n",
    "    for i, number in enumerate(x):\n",
    "        mean += i*number\n",
    "        n += number \n",
    "    mean /= n\n",
    "    print('n: ', n)\n",
    "    print('mean: ', mean)\n",
    "\n",
    "    sum = 0\n",
    "    for i, number in enumerate(x):\n",
    "        for _ in range(number):\n",
    "            sum += (i - mean) ** 2\n",
    "\n",
    "    var = 1/(n-1) * sum\n",
    "    print('var: ', var)\n",
    "    return var\n",
    "    # return 1/(n-1) * sum((x - mean) ** 2)\n",
    "\n",
    "# Standard deviation of the sample\n",
    "def sample_sd(x):\n",
    "    return np.sqrt(sample_var(x))\n",
    "\n",
    "print('std div: ', sample_sd(x))"
   ]
  },
  {
   "attachments": {},
   "cell_type": "markdown",
   "metadata": {},
   "source": [
    "## Ex 3"
   ]
  },
  {
   "cell_type": "code",
   "execution_count": 49,
   "metadata": {},
   "outputs": [],
   "source": [
    "X = np.array([4, 4, -4, -4])\n",
    "Y = np.array([7, 1, -6, -2])"
   ]
  },
  {
   "cell_type": "code",
   "execution_count": 59,
   "metadata": {},
   "outputs": [],
   "source": [
    "def s1(x):\n",
    "    n = len(x)\n",
    "    mean = sum(x) / n\n",
    "    var = 1/(n-1) * sum((mean - x))\n",
    "    return np.sqrt(var)\n",
    "\n",
    "def s2(x):\n",
    "    n = len(x)\n",
    "    mean = sum(x) / n\n",
    "    var = 1/(n-1) * sum(np.abs(mean - x))\n",
    "    return np.sqrt(var)\n",
    "\n",
    "def s3(x):\n",
    "    n = len(x)\n",
    "    mean = sum(x) / n\n",
    "    var = 1/(n-1) * sum((mean - x) ** 2)\n",
    "    return np.sqrt(var)"
   ]
  },
  {
   "cell_type": "code",
   "execution_count": 65,
   "metadata": {},
   "outputs": [
    {
     "name": "stdout",
     "output_type": "stream",
     "text": [
      "S1 --------------------\n",
      "X:  0.0\n",
      "Y:  0.0\n",
      "S2 --------------------\n",
      "X:  2.309401076758503\n",
      "Y:  2.309401076758503\n",
      "S3 --------------------\n",
      "X:  4.618802153517006\n",
      "Y:  5.477225575051661\n"
     ]
    }
   ],
   "source": [
    "print(\"S1\", '-'*20)\n",
    "print('X: ', s1(X))\n",
    "print('Y: ',s1(Y))\n",
    "print(\"S2\", '-'*20)\n",
    "print('X: ',s2(X))\n",
    "print('Y: ',s2(Y))\n",
    "print(\"S3\", '-'*20)\n",
    "print('X: ',s3(X))\n",
    "print('Y: ',s3(Y))"
   ]
  },
  {
   "attachments": {},
   "cell_type": "markdown",
   "metadata": {},
   "source": [
    "## Ex 4"
   ]
  }
 ],
 "metadata": {
  "kernelspec": {
   "display_name": "Python 3",
   "language": "python",
   "name": "python3"
  },
  "language_info": {
   "codemirror_mode": {
    "name": "ipython",
    "version": 3
   },
   "file_extension": ".py",
   "mimetype": "text/x-python",
   "name": "python",
   "nbconvert_exporter": "python",
   "pygments_lexer": "ipython3",
   "version": "3.10.7"
  },
  "orig_nbformat": 4,
  "vscode": {
   "interpreter": {
    "hash": "a33aac919aa2cbe319fb5707819de273b4e03befca3789ec75a85af2b740207c"
   }
  }
 },
 "nbformat": 4,
 "nbformat_minor": 2
}
